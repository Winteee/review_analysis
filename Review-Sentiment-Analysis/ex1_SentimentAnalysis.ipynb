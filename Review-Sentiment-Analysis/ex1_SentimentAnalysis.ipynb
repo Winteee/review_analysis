{
 "cells": [
  {
   "cell_type": "code",
   "execution_count": 2,
   "metadata": {},
   "outputs": [
    {
     "name": "stderr",
     "output_type": "stream",
     "text": [
      "Using TensorFlow backend.\n"
     ]
    },
    {
     "name": "stdout",
     "output_type": "stream",
     "text": [
      "————————语料预处理：数据导入————————\n"
     ]
    },
    {
     "name": "stderr",
     "output_type": "stream",
     "text": [
      "/anaconda3/envs/tensorflow/lib/python3.5/site-packages/IPython/core/interactiveshell.py:2728: DtypeWarning: Columns (1,6) have mixed types. Specify dtype option on import or set low_memory=False.\n",
      "  interactivity=interactivity, compiler=compiler, result=result)\n"
     ]
    },
    {
     "name": "stdout",
     "output_type": "stream",
     "text": [
      "reviewdata的数据格式为：\n",
      "<class 'pandas.core.frame.DataFrame'>\n",
      "Int64Index: 30000 entries, 0 to 29999\n",
      "Data columns (total 4 columns):\n",
      "reviewbody    30000 non-null object\n",
      "score1        30000 non-null float64\n",
      "score2        30000 non-null float64\n",
      "score3        30000 non-null float64\n",
      "dtypes: float64(3), object(1)\n",
      "memory usage: 1.1+ MB\n",
      "None\n",
      "【over】\n"
     ]
    }
   ],
   "source": [
    "import pandas as pd #导入Pandas\n",
    "import numpy as np #导入Numpy\n",
    "import jieba #导入结巴分词\n",
    "import jieba.analyse\n",
    " \n",
    "from keras.preprocessing import sequence\n",
    "from keras.optimizers import SGD, RMSprop, Adagrad\n",
    "from keras.utils import np_utils\n",
    "from keras.models import Sequential\n",
    "from keras.layers.core import Dense, Dropout, Activation\n",
    "from keras.layers.embeddings import Embedding\n",
    "from keras.layers.recurrent import LSTM, GRU\n",
    "\n",
    "print(\"————————语料预处理：数据导入————————\")\n",
    "reviewfile=pd.read_csv('review30000.csv') #读取训练语料完毕\n",
    "reviewdata = pd.DataFrame()\n",
    "reviewdata[\"reviewbody\"]= reviewfile[\"b.reviewbody\"]\n",
    "reviewdata[\"score1\"]= reviewfile[\"口味评分\"]\n",
    "reviewdata[\"score2\"]= reviewfile[\"环境评分\"]\n",
    "reviewdata[\"score3\"]= reviewfile[\"服务评分\"]\n",
    "reviewdata = reviewdata.dropna(axis=0,how='any') #去掉所有有缺失值的行\n",
    "print(\"reviewdata的数据格式为：\")\n",
    "print(reviewdata.info())\n",
    "print(\"【over】\")\n"
   ]
  },
  {
   "cell_type": "code",
   "execution_count": 11,
   "metadata": {},
   "outputs": [],
   "source": [
    "#【函数】查看pandas数据的信息\n",
    "def getinfo(inputdata):\n",
    "    print(\"文件的具体信息如下==========\")\n",
    "    info = inputdata.info()\n",
    "    print(info)\n",
    "    print(\"===========\")\n",
    "    \n",
    "#【函数】词向量化\n",
    "def arraywords(review_data,word_dict):\n",
    "    maxlen = 50\n",
    "    review_data['sent'] = review_data['words'].apply(lambda x: list(word_dict['id'][x]))\n",
    "    #review_data['sent'] = list(sequence.pad_sequences(review_data['sent'], maxlen=maxlen))\n",
    "    review_data['sent'] = list(sequence.pad_sequences(review_data['sent'], maxlen=maxlen))\n",
    "    print(\"——————————词向量化结束——————————\")\n",
    "    return review_data\n",
    "\n",
    "#【函数】给数据打标:\n",
    "def markwords(inputdata):\n",
    "    inputdata[\"totalscore\"] = inputdata.score1+inputdata.score2+inputdata.score3 \n",
    "    inputdata[\"pos_or_neg\"] = pd.Series()\n",
    "    pos = inputdata[inputdata.totalscore>11]\n",
    "    pos[\"pos_or_neg\"]=1\n",
    "    neg = inputdata[inputdata.totalscore<4]\n",
    "    neg[\"pos_or_neg\"] = 0\n",
    "    inputdata = pos.append(neg)\n",
    "    print(\"——————————标注结束——————————\")\n",
    "    print(\"得到{}条正向评论，{}条负向评论\".format(len(pos),len(neg)))\n",
    "    return inputdata\n",
    "\n",
    "#【函数】训练过程可视化图表\n",
    "import keras\n",
    "from keras.utils import np_utils\n",
    "import matplotlib.pyplot as plt\n",
    "%matplotlib inline\n",
    "\n",
    "#写一个LossHistory类，保存loss和acc\n",
    "class LossHistory(keras.callbacks.Callback):\n",
    "    def on_train_begin(self, logs={}):\n",
    "        self.losses = {'batch':[], 'epoch':[]}\n",
    "        self.accuracy = {'batch':[], 'epoch':[]}\n",
    "        self.val_loss = {'batch':[], 'epoch':[]}\n",
    "        self.val_acc = {'batch':[], 'epoch':[]}\n",
    "\n",
    "    def on_batch_end(self, batch, logs={}):\n",
    "        self.losses['batch'].append(logs.get('loss'))\n",
    "        self.accuracy['batch'].append(logs.get('acc'))\n",
    "        self.val_loss['batch'].append(logs.get('val_loss'))\n",
    "        self.val_acc['batch'].append(logs.get('val_acc'))\n",
    "\n",
    "    def on_epoch_end(self, batch, logs={}):\n",
    "        self.losses['epoch'].append(logs.get('loss'))\n",
    "        self.accuracy['epoch'].append(logs.get('acc'))\n",
    "        self.val_loss['epoch'].append(logs.get('val_loss'))\n",
    "        self.val_acc['epoch'].append(logs.get('val_acc'))\n",
    "\n",
    "    def loss_plot(self, loss_type):\n",
    "        iters = range(len(self.losses[loss_type]))\n",
    "        plt.figure()\n",
    "        # acc\n",
    "        plt.plot(iters, self.accuracy[loss_type], 'r', label='train acc')\n",
    "        # loss\n",
    "        plt.plot(iters, self.losses[loss_type], 'g', label='train loss')\n",
    "        if loss_type == 'epoch':\n",
    "            # val_acc\n",
    "            plt.plot(iters, self.val_acc[loss_type], 'b', label='val acc')\n",
    "            # val_loss\n",
    "            plt.plot(iters, self.val_loss[loss_type], 'k', label='val loss')\n",
    "        plt.grid(True)\n",
    "        plt.xlabel(loss_type)\n",
    "        plt.ylabel('acc-loss')\n",
    "        plt.legend(loc=\"upper right\")\n",
    "        plt.show()"
   ]
  },
  {
   "cell_type": "code",
   "execution_count": 12,
   "metadata": {},
   "outputs": [
    {
     "name": "stdout",
     "output_type": "stream",
     "text": [
      "文件的具体信息如下==========\n",
      "<class 'pandas.core.frame.DataFrame'>\n",
      "Index: 5161 entries, ， to 桓\n",
      "Data columns (total 2 columns):\n",
      "0     5161 non-null int64\n",
      "id    5161 non-null int64\n",
      "dtypes: int64(2)\n",
      "memory usage: 121.0+ KB\n",
      "None\n",
      "===========\n",
      "词典构建完成，输出文件word_dict(单字映射).csv——————【over】\n"
     ]
    }
   ],
   "source": [
    "#构建单字映射词典\n",
    "import  re \n",
    "reviewdata['words'] = reviewdata['reviewbody'].apply(lambda x: re.findall('[\\x80-\\xff]{3}|[\\w\\W]', x))\n",
    "all_words = []\n",
    "for w in reviewdata['words']:\n",
    "    all_words.extend(w)\n",
    "word_dict = pd.DataFrame(pd.Series(all_words).value_counts())\n",
    "word_dict['id'] = list(range(1, len(word_dict)+1))\n",
    "getinfo(word_dict)\n",
    "word_dict.to_csv(\"word_dict(单字映射).csv\",index=True,header=True)\n",
    "print(\"词典构建完成，输出文件word_dict(单字映射).csv——————【over】\")"
   ]
  },
  {
   "cell_type": "code",
   "execution_count": 5,
   "metadata": {},
   "outputs": [
    {
     "name": "stdout",
     "output_type": "stream",
     "text": [
      "——————————词向量化结束——————————\n",
      "完成（词向量化），得到 reviewdata_sented ：\n",
      "<class 'pandas.core.frame.DataFrame'>\n",
      "Int64Index: 30000 entries, 0 to 29999\n",
      "Data columns (total 6 columns):\n",
      "reviewbody    30000 non-null object\n",
      "score1        30000 non-null float64\n",
      "score2        30000 non-null float64\n",
      "score3        30000 non-null float64\n",
      "words         30000 non-null object\n",
      "sent          30000 non-null object\n",
      "dtypes: float64(3), object(3)\n",
      "memory usage: 1.6+ MB\n",
      "None\n"
     ]
    },
    {
     "name": "stderr",
     "output_type": "stream",
     "text": [
      "/anaconda3/envs/tensorflow/lib/python3.5/site-packages/ipykernel_launcher.py:22: SettingWithCopyWarning: \n",
      "A value is trying to be set on a copy of a slice from a DataFrame.\n",
      "Try using .loc[row_indexer,col_indexer] = value instead\n",
      "\n",
      "See the caveats in the documentation: http://pandas.pydata.org/pandas-docs/stable/indexing.html#indexing-view-versus-copy\n",
      "/anaconda3/envs/tensorflow/lib/python3.5/site-packages/ipykernel_launcher.py:24: SettingWithCopyWarning: \n",
      "A value is trying to be set on a copy of a slice from a DataFrame.\n",
      "Try using .loc[row_indexer,col_indexer] = value instead\n",
      "\n",
      "See the caveats in the documentation: http://pandas.pydata.org/pandas-docs/stable/indexing.html#indexing-view-versus-copy\n"
     ]
    },
    {
     "name": "stdout",
     "output_type": "stream",
     "text": [
      "——————————标注结束——————————\n",
      "得到13912条正向评论，1185条负向评论\n",
      "完成（数据情感极性标注），输出文件reviewdata_cleaned.csv——————【over】\n"
     ]
    }
   ],
   "source": [
    "#开始调用函数处理数据：\n",
    "\n",
    "reviewdata_sented = arraywords(reviewdata,word_dict)\n",
    "print(\"完成（词向量化），得到 reviewdata_sented ：\")\n",
    "print(reviewdata_sented.info())\n",
    "reviewdata_marked = markwords(reviewdata_sented)\n",
    "reviewdata_marked.to_csv(\"reviewdata_cleaned.csv\",index=True,header=True)\n",
    "print(\"完成（数据情感极性标注），输出文件reviewdata_cleaned.csv——————【over】\")"
   ]
  },
  {
   "cell_type": "code",
   "execution_count": 6,
   "metadata": {},
   "outputs": [
    {
     "name": "stdout",
     "output_type": "stream",
     "text": [
      "构建的模型信息为：\n",
      "_________________________________________________________________\n",
      "Layer (type)                 Output Shape              Param #   \n",
      "=================================================================\n",
      "embedding_1 (Embedding)      (None, None, 256)         1321472   \n",
      "_________________________________________________________________\n",
      "lstm_1 (LSTM)                (None, 256)               525312    \n",
      "_________________________________________________________________\n",
      "dropout_1 (Dropout)          (None, 256)               0         \n",
      "_________________________________________________________________\n",
      "dense_1 (Dense)              (None, 2)                 514       \n",
      "_________________________________________________________________\n",
      "activation_1 (Activation)    (None, 2)                 0         \n",
      "=================================================================\n",
      "Total params: 1,847,298\n",
      "Trainable params: 1,847,298\n",
      "Non-trainable params: 0\n",
      "_________________________________________________________________\n",
      "下面开始训练\n",
      "Train on 11322 samples, validate on 3775 samples\n",
      "Epoch 1/10\n",
      "11322/11322 [==============================] - 114s 10ms/step - loss: 0.1815 - acc: 0.9399 - val_loss: 0.1369 - val_acc: 0.9523\n",
      "Epoch 2/10\n",
      "11322/11322 [==============================] - 132s 12ms/step - loss: 0.1066 - acc: 0.9637 - val_loss: 0.1208 - val_acc: 0.9603\n",
      "Epoch 3/10\n",
      "11322/11322 [==============================] - 167s 15ms/step - loss: 0.0811 - acc: 0.9738 - val_loss: 0.1144 - val_acc: 0.9595\n",
      "Epoch 4/10\n",
      "11322/11322 [==============================] - 123s 11ms/step - loss: 0.0614 - acc: 0.9807 - val_loss: 0.1330 - val_acc: 0.9555\n",
      "Epoch 5/10\n",
      "11322/11322 [==============================] - 113s 10ms/step - loss: 0.0505 - acc: 0.9834 - val_loss: 0.1407 - val_acc: 0.9523\n",
      "Epoch 6/10\n",
      "11322/11322 [==============================] - 112s 10ms/step - loss: 0.0413 - acc: 0.9881 - val_loss: 0.1507 - val_acc: 0.9507\n",
      "Epoch 7/10\n",
      "11322/11322 [==============================] - 510s 45ms/step - loss: 0.0308 - acc: 0.9907 - val_loss: 0.1796 - val_acc: 0.9534\n",
      "Epoch 8/10\n",
      "11322/11322 [==============================] - 127s 11ms/step - loss: 0.0246 - acc: 0.9933 - val_loss: 0.2128 - val_acc: 0.9552\n",
      "Epoch 9/10\n",
      "11322/11322 [==============================] - 129s 11ms/step - loss: 0.0209 - acc: 0.9940 - val_loss: 0.2196 - val_acc: 0.9526\n",
      "Epoch 10/10\n",
      "11322/11322 [==============================] - 120s 11ms/step - loss: 0.0183 - acc: 0.9955 - val_loss: 0.1940 - val_acc: 0.9539\n"
     ]
    },
    {
     "data": {
      "image/png": "[encoded data removed]",
      "text/plain": [
       "<matplotlib.figure.Figure at 0x126048cf8>"
      ]
     },
     "metadata": {},
     "output_type": "display_data"
    },
    {
     "name": "stdout",
     "output_type": "stream",
     "text": [
      "【over】\n"
     ]
    }
   ],
   "source": [
    "#进行神经网络模型搭建\n",
    "from sklearn import model_selection\n",
    "from keras.utils import np_utils\n",
    "\n",
    "seed = 7\n",
    "X = np.array(list(reviewdata_marked['sent']))\n",
    "Y = np.array(list(reviewdata_marked['pos_or_neg']))\n",
    "x_train, x_test, y_train, y_test = model_selection.train_test_split(X, Y, test_size=0.25, random_state=seed)\n",
    "y_train = np_utils.to_categorical(y_train)\n",
    "y_test = np_utils.to_categorical(y_test)\n",
    "\n",
    "model = Sequential()\n",
    "model.add(Embedding(len(word_dict)+1, 256))\n",
    "model.add(LSTM(256))\n",
    "model.add(Dropout(0.5))\n",
    "model.add(Dense(y_train.shape[1]))\n",
    "model.add(Activation('softmax'))\n",
    "model.compile(loss='binary_crossentropy', optimizer='adam', metrics=['accuracy'])\n",
    "\n",
    "print(\"构建的模型信息为：\")\n",
    "model.summary()\n",
    "model.get_config()\n",
    "\n",
    "print(\"下面开始训练\")\n",
    "\n",
    "\n",
    "history = LossHistory()\n",
    "model.fit(x_train, y_train, batch_size=32, epochs=10,validation_data=(x_test, y_test),callbacks=[history])#128时，每个epoch训练92s\n",
    "history.loss_plot('epoch')\n",
    "print(\"【over】\")"
   ]
  },
  {
   "cell_type": "code",
   "execution_count": 7,
   "metadata": {},
   "outputs": [
    {
     "name": "stdout",
     "output_type": "stream",
     "text": [
      "3775/3775 [==============================] - 11s 3ms/step\n",
      "Test accuracy = : [0.1940412941723075, 0.9539072845313723]\n"
     ]
    }
   ],
   "source": [
    "score = model.evaluate(x_test, y_test, verbose=1) \n",
    "#【evaluate函数返回什么？？？】\n",
    "#Scalar test loss (if the model has no metrics)or list of scalars (if the model computes other metrics).\n",
    "#The attribute `model.metrics_names` will give you\n",
    "#the display labels for the scalar outputs.\n",
    "print (\"Test accuracy = :\",score)"
   ]
  },
  {
   "cell_type": "code",
   "execution_count": 8,
   "metadata": {},
   "outputs": [],
   "source": [
    "def predict_new(reviewdata):\n",
    "    reviewdata_sent = arraywords(reviewdata,word_dict)\n",
    "    x = np.array(list(reviewdata_sent['sent']))\n",
    "    y = model.predict_classes(x)\n",
    "    y_score = model.predict(x)\n",
    "    y_out = y.tolist()\n",
    "    y_score_out = y_score.tolist()\n",
    "    predict_result = pd.DataFrame()\n",
    "    predict_result[\"reviewinput\"] = pd.Series(reviewdata.reviewbody)\n",
    "    predict_result[\"p:pos_or_neg\"] = y_out\n",
    "    predict_result[\"p:score\"] = y_score_out\n",
    "    return predict_result\n",
    "\n",
    "#输入一个评论来预测\n",
    "def predict_one(review):\n",
    "    words = re.findall('[\\x80-\\xff]{3}|[\\w\\W]', review)\n",
    "    print(\"words = \",words)\n",
    "    sent = []\n",
    "    for x in words:\n",
    "        get_id = list(word_dict[\"id\"][word_dict.index == x].values)\n",
    "        sent.extend(get_id)\n",
    "    print(\"sent = \",sent)\n",
    "    x_input = sequence.pad_sequences([sent], maxlen=50)\n",
    "    print(\"x_input = \",x_input)\n",
    "    predicted = model.predict_classes(x_input, verbose=0)\n",
    "    return predicted"
   ]
  },
  {
   "cell_type": "code",
   "execution_count": 10,
   "metadata": {},
   "outputs": [
    {
     "name": "stdout",
     "output_type": "stream",
     "text": [
      "words =  ['他', '们', '都', '说', '好', '用', '，', '我', '就', '呵', '呵', '了']\n",
      "sent =  [94, 81, 29, 55, 9, 149, 1, 30, 23, 683, 683, 6]\n",
      "x_input =  [[  0   0   0   0   0   0   0   0   0   0   0   0   0  94  81  29  55   9\n",
      "  149   1  30  23 683 683   6]]\n",
      "预测结果： [1]\n"
     ]
    }
   ],
   "source": [
    "a = \"他们都说好用，我就呵呵了\"\n",
    "p = predict_one(a)\n",
    "print(\"预测结果：\",p)"
   ]
  },
  {
   "cell_type": "code",
   "execution_count": null,
   "metadata": {},
   "outputs": [],
   "source": []
  },
  {
   "cell_type": "code",
   "execution_count": null,
   "metadata": {},
   "outputs": [],
   "source": []
  }
 ],
 "metadata": {
  "kernelspec": {
   "display_name": "Python 3",
   "language": "python",
   "name": "python3"
  },
  "language_info": {
   "codemirror_mode": {
    "name": "ipython",
    "version": 3
   },
   "file_extension": ".py",
   "mimetype": "text/x-python",
   "name": "python",
   "nbconvert_exporter": "python",
   "pygments_lexer": "ipython3",
   "version": "3.5.4"
  }
 },
 "nbformat": 4,
 "nbformat_minor": 2
}
